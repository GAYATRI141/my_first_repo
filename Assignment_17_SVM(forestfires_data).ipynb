{
  "cells": [
    {
      "cell_type": "markdown",
      "metadata": {
        "id": "view-in-github",
        "colab_type": "text"
      },
      "source": [
        "<a href=\"https://colab.research.google.com/github/GAYATRI141/my_first_repo/blob/main/Assignment_17_SVM(forestfires_data).ipynb\" target=\"_parent\"><img src=\"https://colab.research.google.com/assets/colab-badge.svg\" alt=\"Open In Colab\"/></a>"
      ]
    },
    {
      "cell_type": "code",
      "execution_count": null,
      "id": "5e766660",
      "metadata": {
        "id": "5e766660"
      },
      "outputs": [],
      "source": [
        "import numpy as np\n",
        "import pandas as pd"
      ]
    },
    {
      "cell_type": "code",
      "execution_count": null,
      "id": "ba6bb221",
      "metadata": {
        "id": "ba6bb221"
      },
      "outputs": [],
      "source": [
        "forest=pd.read_csv('forestfires.csv')"
      ]
    },
    {
      "cell_type": "code",
      "execution_count": null,
      "id": "2918aedc",
      "metadata": {
        "id": "2918aedc"
      },
      "outputs": [],
      "source": [
        "from sklearn import preprocessing\n",
        "label_encoder=preprocessing.LabelEncoder()\n",
        "forest['month']=label_encoder.fit_transform(forest['month'])\n",
        "forest['day']=label_encoder.fit_transform(forest['day'])\n"
      ]
    },
    {
      "cell_type": "code",
      "execution_count": null,
      "id": "07e3c263",
      "metadata": {
        "id": "07e3c263"
      },
      "outputs": [],
      "source": [
        "from sklearn.model_selection import train_test_split\n",
        "train,test=train_test_split(forest,test_size=0.3,random_state=0)\n",
        "columns=list(forest.columns)\n",
        "predictors=columns[0:30]\n",
        "target=columns[30]"
      ]
    },
    {
      "cell_type": "code",
      "execution_count": null,
      "id": "818a969e",
      "metadata": {
        "id": "818a969e"
      },
      "outputs": [],
      "source": [
        "from sklearn.svm import SVC"
      ]
    },
    {
      "cell_type": "code",
      "execution_count": null,
      "id": "39489ec9",
      "metadata": {
        "id": "39489ec9",
        "outputId": "aef22430-dda9-4c82-c8bc-3742ed825fde"
      },
      "outputs": [
        {
          "data": {
            "text/plain": [
              "0.967948717948718"
            ]
          },
          "execution_count": 11,
          "metadata": {},
          "output_type": "execute_result"
        }
      ],
      "source": [
        "model_linear=SVC(kernel='linear')\n",
        "model_linear.fit(train[predictors],train[target])\n",
        "train_pred_linear=model_linear.predict(train[predictors])\n",
        "test_pred_linear=model_linear.predict(test[predictors])\n",
        "train_lin_acc=np.mean(train_pred_linear==train[target])\n",
        "test_lin_acc=np.mean(test_pred_linear==test[target])\n",
        "train_lin_acc#1.0\n",
        "test_lin_acc#0.96"
      ]
    },
    {
      "cell_type": "code",
      "execution_count": null,
      "id": "7c7b1354",
      "metadata": {
        "id": "7c7b1354",
        "outputId": "681fd151-612a-45ba-f97c-505d32187bdb"
      },
      "outputs": [
        {
          "data": {
            "text/plain": [
              "1.0"
            ]
          },
          "execution_count": 12,
          "metadata": {},
          "output_type": "execute_result"
        }
      ],
      "source": [
        "train_lin_acc"
      ]
    },
    {
      "cell_type": "code",
      "execution_count": null,
      "id": "399a113c",
      "metadata": {
        "id": "399a113c",
        "outputId": "c1750dbe-5b1f-4eea-a035-9fd9c30fe147"
      },
      "outputs": [
        {
          "data": {
            "text/plain": [
              "0.7564102564102564"
            ]
          },
          "execution_count": 13,
          "metadata": {},
          "output_type": "execute_result"
        }
      ],
      "source": [
        "model_poly=SVC(kernel='poly')\n",
        "model_poly.fit(train[predictors],train[target])\n",
        "train_pred_poly=model_poly.predict(train[predictors])\n",
        "test_pred_poly=model_poly.predict(test[predictors])\n",
        "train_poly_acc=np.mean(train_pred_poly==train[target])\n",
        "test_poly_acc=np.mean(test_pred_poly==test[target])\n",
        "train_poly_acc#0.76\n",
        "test_poly_acc#0.75"
      ]
    },
    {
      "cell_type": "code",
      "execution_count": null,
      "id": "8919d1d3",
      "metadata": {
        "id": "8919d1d3",
        "outputId": "afc742f7-4e63-4781-c574-ce847bed6710"
      },
      "outputs": [
        {
          "data": {
            "text/plain": [
              "0.7673130193905817"
            ]
          },
          "execution_count": 14,
          "metadata": {},
          "output_type": "execute_result"
        }
      ],
      "source": [
        "train_poly_acc"
      ]
    },
    {
      "cell_type": "code",
      "execution_count": null,
      "id": "994696c9",
      "metadata": {
        "id": "994696c9",
        "outputId": "840fe94b-303e-4755-9982-3a546dc27196"
      },
      "outputs": [
        {
          "data": {
            "text/plain": [
              "0.7243589743589743"
            ]
          },
          "execution_count": 15,
          "metadata": {},
          "output_type": "execute_result"
        }
      ],
      "source": [
        "model_rbf=SVC(kernel='rbf')\n",
        "model_rbf.fit(train[predictors],train[target])\n",
        "train_pred_rbf=model_rbf.predict(train[predictors])\n",
        "test_pred_rbf=model_rbf.predict(test[predictors])\n",
        "train_rbf_acc=np.mean(train_pred_rbf==train[target])\n",
        "test_rbf_acc=np.mean(test_pred_rbf==test[target])\n",
        "train_rbf_acc#0.76\n",
        "test_rbf_acc#0.72"
      ]
    },
    {
      "cell_type": "code",
      "execution_count": null,
      "id": "bb3c1e45",
      "metadata": {
        "id": "bb3c1e45",
        "outputId": "e10492a9-8bc4-4553-f663-a738370c71fa"
      },
      "outputs": [
        {
          "data": {
            "text/plain": [
              "0.7617728531855956"
            ]
          },
          "execution_count": 16,
          "metadata": {},
          "output_type": "execute_result"
        }
      ],
      "source": [
        "train_rbf_acc"
      ]
    },
    {
      "cell_type": "code",
      "execution_count": null,
      "id": "0c256176",
      "metadata": {
        "id": "0c256176"
      },
      "outputs": [],
      "source": [
        ""
      ]
    },
    {
      "cell_type": "code",
      "execution_count": null,
      "id": "47b54dd0",
      "metadata": {
        "id": "47b54dd0"
      },
      "outputs": [],
      "source": [
        ""
      ]
    }
  ],
  "metadata": {
    "kernelspec": {
      "display_name": "Python 3 (ipykernel)",
      "language": "python",
      "name": "python3"
    },
    "language_info": {
      "codemirror_mode": {
        "name": "ipython",
        "version": 3
      },
      "file_extension": ".py",
      "mimetype": "text/x-python",
      "name": "python",
      "nbconvert_exporter": "python",
      "pygments_lexer": "ipython3",
      "version": "3.9.7"
    },
    "colab": {
      "name": "Assignment_17_SVM(forestfires data).ipynb",
      "provenance": [],
      "include_colab_link": true
    }
  },
  "nbformat": 4,
  "nbformat_minor": 5
}